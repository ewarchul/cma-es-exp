{
 "cells": [
  {
   "cell_type": "code",
   "execution_count": 3,
   "metadata": {},
   "outputs": [],
   "source": [
    "library(tidyverse)\n",
    "library(zeallot)\n",
    "library(magrittr)\n",
    "source(\"../../R/exp-utils.R\")\n",
    "source(\"../../R/plot-utils.R\")\n",
    "source(\"../../R/alg/cma-es-csa.R\")\n",
    "source(\"../../R/alg/cma-es-classic.R\")\n",
    "source(\"../../R/alg/cma-es-ppmf.R\")\n",
    "source(\"../../R/alg/cma-es-ppmf-classic.R\")\n",
    "options(repr.plot.width=15, repr.plot.height=6)"
   ]
  },
  {
   "cell_type": "markdown",
   "metadata": {},
   "source": [
    "#### Funkcje testowe"
   ]
  },
  {
   "cell_type": "code",
   "execution_count": 2,
   "metadata": {},
   "outputs": [],
   "source": [
    "# F-cja sferyczna\n",
    "sphere_func = . %>% crossprod(.)\n",
    "attributes(sphere_func) = c(attributes(sphere_func), name = \"sphere\")\n",
    "\n",
    "# F-cja liniowa\n",
    "linear_func = function(x) {\n",
    "  x[1]\n",
    "}\n",
    "attributes(linear_func) = c(attributes(linear_func), name = \"linear\")"
   ]
  },
  {
   "cell_type": "markdown",
   "metadata": {},
   "source": [
    "#### Parametry"
   ]
  },
  {
   "cell_type": "code",
   "execution_count": 38,
   "metadata": {},
   "outputs": [],
   "source": [
    "dims = c(2, 3, 5, 10)\n",
    "func_list = list(sphere_func, ellips_func, linear_func, noise_func)\n",
    "x0 = 100\n",
    "control = list(\n",
    "    stopfitness = 10^-12\n",
    ")"
   ]
  },
  {
   "cell_type": "code",
   "execution_count": 39,
   "metadata": {},
   "outputs": [],
   "source": [
    "csa_data = \n",
    "    run_massive_experiments(cma_es_csa, func_list, dims, x0, control)"
   ]
  },
  {
   "cell_type": "code",
   "execution_count": 40,
   "metadata": {},
   "outputs": [],
   "source": [
    "csa_classic_data = \n",
    "    run_massive_experiments(cma_es_classic, func_list, dims, x0, control)"
   ]
  },
  {
   "cell_type": "code",
   "execution_count": 41,
   "metadata": {},
   "outputs": [],
   "source": [
    "ppmf_data = \n",
    "    run_massive_experiments(cma_es_ppmf, func_list, dims, x0, control)"
   ]
  },
  {
   "cell_type": "code",
   "execution_count": null,
   "metadata": {},
   "outputs": [],
   "source": [
    "ppmf_classic_data = \n",
    "    run_massive_experiments(cma_es_ppmf_classic, func_list, dims, x0, control)"
   ]
  },
  {
   "cell_type": "code",
   "execution_count": null,
   "metadata": {},
   "outputs": [],
   "source": [
    "all_data = \n",
    "    merge_results(list(csa_data, csa_classic_data, ppmf_data, ppmf_classic_data))"
   ]
  }
 ],
 "metadata": {
  "kernelspec": {
   "display_name": "R",
   "language": "R",
   "name": "ir"
  },
  "language_info": {
   "codemirror_mode": "r",
   "file_extension": ".r",
   "mimetype": "text/x-r-source",
   "name": "R",
   "pygments_lexer": "r",
   "version": "4.0.3"
  }
 },
 "nbformat": 4,
 "nbformat_minor": 4
}
