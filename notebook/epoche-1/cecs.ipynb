{
 "cells": [
  {
   "cell_type": "code",
   "execution_count": 151,
   "metadata": {},
   "outputs": [],
   "source": [
    "library(tidyverse)\n",
    "library(zeallot)\n",
    "library(magrittr)\n",
    "source(\"../../R/exp-utils.R\")\n",
    "source(\"../../R/plot-utils.R\")\n",
    "source(\"../../R/alg/cma-es-csa.R\")\n",
    "source(\"../../R/alg/cma-es-classic.R\")\n",
    "source(\"../../R/alg/cma-es-ppmf.R\")\n",
    "source(\"../../R/alg/cma-es-ppmf-classic.R\")\n",
    "options(repr.plot.width=15, repr.plot.height=6)\n",
    "\n"
   ]
  }
 ],
 "metadata": {
  "kernelspec": {
   "display_name": "R",
   "language": "R",
   "name": "ir"
  },
  "language_info": {
   "codemirror_mode": "r",
   "file_extension": ".r",
   "mimetype": "text/x-r-source",
   "name": "R",
   "pygments_lexer": "r",
   "version": "4.0.3"
  }
 },
 "nbformat": 4,
 "nbformat_minor": 4
}
