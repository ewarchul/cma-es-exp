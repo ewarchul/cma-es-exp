{
 "cells": [
  {
   "cell_type": "code",
   "execution_count": 2,
   "metadata": {},
   "outputs": [],
   "source": [
    "import sys\n",
    "sys.path.insert(0, '../../Python/')"
   ]
  },
  {
   "cell_type": "code",
   "execution_count": 67,
   "metadata": {},
   "outputs": [],
   "source": [
    "from cma_es_csa import *\n",
    "from cma_es_ppmf import *\n",
    "import numpy as np\n",
    "import pandas as pd\n",
    "import cProfile"
   ]
  },
  {
   "cell_type": "markdown",
   "metadata": {},
   "source": [
    "# Evaluation functions"
   ]
  },
  {
   "cell_type": "code",
   "execution_count": 54,
   "metadata": {},
   "outputs": [],
   "source": [
    "sphere_fn = lambda x: sum(x**2)\n",
    "linear_fn = lambda x: x[0]\n",
    "griewank_fn = lambda x: 1 + (1/4000) * sum(x**2) - np.prod(np.cos(x / np.sqrt(range(1, x.size +1))))"
   ]
  },
  {
   "cell_type": "markdown",
   "metadata": {},
   "source": [
    "# Setup"
   ]
  },
  {
   "cell_type": "code",
   "execution_count": 20,
   "metadata": {},
   "outputs": [],
   "source": [
    "dim = 10\n",
    "x0 = np.repeat(100, dim)"
   ]
  },
  {
   "cell_type": "markdown",
   "metadata": {},
   "source": [
    "# CSA runs"
   ]
  },
  {
   "cell_type": "code",
   "execution_count": 30,
   "metadata": {},
   "outputs": [],
   "source": [
    "csa = CMA_ES_CSA(\n",
    "    x0 = x0,\n",
    "    lower = -100,\n",
    "    upper = 100,\n",
    "    full_display = True,\n",
    "    stopfitness = 10**(-20)\n",
    ")"
   ]
  },
  {
   "cell_type": "code",
   "execution_count": 36,
   "metadata": {},
   "outputs": [],
   "source": [
    "xmin, _, df = csa.fmin(sphere_fn)\n",
    "\n",
    "df.to_csv(f\"../../Python/csa-sphere.csv\")"
   ]
  },
  {
   "cell_type": "code",
   "execution_count": 56,
   "metadata": {},
   "outputs": [],
   "source": [
    "xmin, _, df = csa.fmin(linear_fn)\n",
    "\n",
    "df.to_csv(f\"../../Python/csa-linear.csv\")"
   ]
  },
  {
   "cell_type": "code",
   "execution_count": 57,
   "metadata": {},
   "outputs": [],
   "source": [
    "xmin, _, df = csa.fmin(griewank_fn)\n",
    "\n",
    "df.to_csv(f\"../../Python/csa-griewank.csv\")"
   ]
  },
  {
   "cell_type": "markdown",
   "metadata": {},
   "source": [
    "# PPMF runs"
   ]
  },
  {
   "cell_type": "code",
   "execution_count": 60,
   "metadata": {},
   "outputs": [],
   "source": [
    "ppmf = CMA_ES_PPMF(\n",
    "    x0 = x0,\n",
    "    lower = -100,\n",
    "    upper = 100,\n",
    "    full_display = True,\n",
    "    stopfitness = 10**(-20)\n",
    ")"
   ]
  },
  {
   "cell_type": "code",
   "execution_count": 61,
   "metadata": {},
   "outputs": [],
   "source": [
    "xmin, _, df = ppmf.fmin(sphere_fn)\n",
    "\n",
    "df.to_csv(f\"../../Python/ppmf-sphere.csv\")"
   ]
  },
  {
   "cell_type": "code",
   "execution_count": 62,
   "metadata": {},
   "outputs": [],
   "source": [
    "xmin, _, df = ppmf.fmin(linear_fn)\n",
    "\n",
    "df.to_csv(f\"../../Python/ppmf-linear.csv\")"
   ]
  },
  {
   "cell_type": "code",
   "execution_count": 63,
   "metadata": {},
   "outputs": [],
   "source": [
    "xmin, _, df = ppmf.fmin(griewank_fn)\n",
    "\n",
    "df.to_csv(f\"../../Python/ppmf-griewank.csv\")"
   ]
  },
  {
   "cell_type": "code",
   "execution_count": null,
   "metadata": {},
   "outputs": [],
   "source": []
  }
 ],
 "metadata": {
  "kernelspec": {
   "display_name": "Python 3",
   "language": "python",
   "name": "python3"
  },
  "language_info": {
   "codemirror_mode": {
    "name": "ipython",
    "version": 3
   },
   "file_extension": ".py",
   "mimetype": "text/x-python",
   "name": "python",
   "nbconvert_exporter": "python",
   "pygments_lexer": "ipython3",
   "version": "3.8.6"
  }
 },
 "nbformat": 4,
 "nbformat_minor": 4
}
