{
 "cells": [
  {
   "cell_type": "markdown",
   "metadata": {},
   "source": [
    "# Porównanie metod adaptacji $\\sigma$ - z CMA"
   ]
  },
  {
   "cell_type": "code",
   "execution_count": 1,
   "metadata": {},
   "outputs": [
    {
     "name": "stderr",
     "output_type": "stream",
     "text": [
      "── \u001b[1mAttaching packages\u001b[22m ─────────────────────────────────────── tidyverse 1.3.0 ──\n",
      "\n",
      "\u001b[32m✔\u001b[39m \u001b[34mggplot2\u001b[39m 3.3.0     \u001b[32m✔\u001b[39m \u001b[34mpurrr  \u001b[39m 0.3.3\n",
      "\u001b[32m✔\u001b[39m \u001b[34mtibble \u001b[39m 2.1.3     \u001b[32m✔\u001b[39m \u001b[34mdplyr  \u001b[39m 0.8.5\n",
      "\u001b[32m✔\u001b[39m \u001b[34mtidyr  \u001b[39m 1.0.2     \u001b[32m✔\u001b[39m \u001b[34mstringr\u001b[39m 1.4.0\n",
      "\u001b[32m✔\u001b[39m \u001b[34mreadr  \u001b[39m 1.3.1     \u001b[32m✔\u001b[39m \u001b[34mforcats\u001b[39m 0.5.0\n",
      "\n",
      "── \u001b[1mConflicts\u001b[22m ────────────────────────────────────────── tidyverse_conflicts() ──\n",
      "\u001b[31m✖\u001b[39m \u001b[34mdplyr\u001b[39m::\u001b[32mfilter()\u001b[39m masks \u001b[34mstats\u001b[39m::filter()\n",
      "\u001b[31m✖\u001b[39m \u001b[34mdplyr\u001b[39m::\u001b[32mlag()\u001b[39m    masks \u001b[34mstats\u001b[39m::lag()\n",
      "\n",
      "\n",
      "Attaching package: ‘magrittr’\n",
      "\n",
      "\n",
      "The following object is masked from ‘package:purrr’:\n",
      "\n",
      "    set_names\n",
      "\n",
      "\n",
      "The following object is masked from ‘package:tidyr’:\n",
      "\n",
      "    extract\n",
      "\n",
      "\n",
      "Loading required package: future\n",
      "\n"
     ]
    }
   ],
   "source": [
    "library(tidyverse)\n",
    "library(magrittr)\n",
    "library(furrr)\n",
    "library(tictoc)\n",
    "source(\"../src/cma-es/cma-es.R\") # CSA-rule (Ostermeier)\n",
    "source(\"../src/cma-es/cma-es-no-sigma.R\") # Raw ES\n",
    "source(\"../src/cma-es/cma-es-sigma-quant.R\") # Quant-rule (Arabas & Warchulski)\n",
    "source(\"../src/cma-es/cma-es-sigma-JA.R\") # Quant-rule (Arabas & Warchulski)\n",
    "source(\"../src/cma-es/cma-es-onefifth-sigma.R\") # 1/5th rule\n",
    "source(\"../src/cma-es/cma-es-onefifth-exp-sigma.R\") # 1/5h rule exp (Hansen)\n",
    "source(\"../src/cma-es/cma-es-msr-sigma.R\") # MSR i.e median success rule (Hansen & Auger)\n",
    "source(\"../src/cma-es/cma-es-psr-sigma.R\") # PSR i.e population success rule (Loshchilov)\n",
    "source(\"../src/eval-funcs.R\")\n",
    "source(\"../src/exp-utils.R\")\n",
    "source(\"../src/data-utils.R\")\n",
    "source(\"../src/plot-funcs.R\")\n",
    "source(\"../src/quantile-utils.R\")\n",
    "options(repr.plot.width=10, repr.plot.height=10)\n"
   ]
  },
  {
   "cell_type": "markdown",
   "metadata": {},
   "source": [
    "## Eksperyment\n",
    "\n",
    "* `cma_es_no_sigma()`: CMA-ES ze stałą $\\sigma$ \n",
    "* `cma_es()`: CMA-ES z adaptacją $\\sigma$ wg CSA \n",
    "* `cma_es_no_sigma_quant()`: CMA-ES z \"kwantylową\" adaptacją $\\sigma$ \n",
    "* `cma_es_no_sigma_msr()`: CMA-ES z medianową regułą adaptacji $\\sigma$ \n",
    "* `cma_es_no_sigma_psr()`: CMA-ES z populacyjną regułą adaptacji $\\sigma$ \n",
    "* `cma_es_no_sigma_expth()`: CMA-ES z 1/5th+exp regułą adaptacji $\\sigma$\n",
    "\n",
    "\n",
    "1. $\\lambda$ =  $4N$\n",
    "2. maxit = 1000\n",
    "3. $x \\in [-100, 100]^{10}$\n",
    "\n"
   ]
  },
  {
   "cell_type": "code",
   "execution_count": 2,
   "metadata": {},
   "outputs": [],
   "source": [
    "methods = list(\n",
    "    cma_es_no_sigma,\n",
    "    cma_es,\n",
    "    cma_es_sigma_onefifth,\n",
    "    cma_es_sigma_JA,\n",
    "    cma_es_sigma_msr,\n",
    "    cma_es_sigma_psr,\n",
    "    cma_es_sigma_expth,\n",
    "    cma_es_sigma_quant)\n",
    "\n",
    "lower = -100\n",
    "upper = 100 \n",
    "x0 = 100\n",
    "CMA_flag = TRUE"
   ]
  },
  {
   "cell_type": "code",
   "execution_count": 14,
   "metadata": {},
   "outputs": [],
   "source": [
    "gutter_eval10 = \n",
    "  do_experiment(\n",
    "                methods,\n",
    "                gutter_func,\n",
    "                10,\n",
    "                x0,\n",
    "                lower = lower,\n",
    "                upper = upper,\n",
    "                CMA = CMA_flag)"
   ]
  },
  {
   "cell_type": "code",
   "execution_count": 15,
   "metadata": {},
   "outputs": [],
   "source": [
    "sphere_eval10 = \n",
    "  do_experiment(\n",
    "                methods,\n",
    "                sphere_func,\n",
    "                10,\n",
    "                x0,\n",
    "                lower = lower,\n",
    "                upper = upper,\n",
    "                CMA = CMA_flag)"
   ]
  },
  {
   "cell_type": "code",
   "execution_count": 16,
   "metadata": {},
   "outputs": [],
   "source": [
    "linear_eval10 = \n",
    "  do_experiment(\n",
    "                methods,\n",
    "                linear_func,\n",
    "                10,\n",
    "                x0,\n",
    "                lower = lower,\n",
    "                upper = upper,\n",
    "                CMA = CMA_flag)"
   ]
  },
  {
   "cell_type": "code",
   "execution_count": 17,
   "metadata": {},
   "outputs": [],
   "source": [
    "gutter_eval50 = \n",
    "  do_experiment(\n",
    "                methods,\n",
    "                gutter_func,\n",
    "                50,\n",
    "                x0,\n",
    "                lower = lower,\n",
    "                upper = upper,\n",
    "                CMA = CMA_flag)"
   ]
  },
  {
   "cell_type": "code",
   "execution_count": 18,
   "metadata": {},
   "outputs": [],
   "source": [
    "sphere_eval50 = \n",
    "  do_experiment(\n",
    "                methods,\n",
    "                sphere_func,\n",
    "                50,\n",
    "                x0,\n",
    "                lower = lower,\n",
    "                upper = upper,\n",
    "                CMA = CMA_flag)"
   ]
  },
  {
   "cell_type": "code",
   "execution_count": 19,
   "metadata": {},
   "outputs": [],
   "source": [
    "linear_eval50 = \n",
    "  do_experiment(\n",
    "                methods,\n",
    "                linear_func,\n",
    "                50,\n",
    "                x0,\n",
    "                lower = lower,\n",
    "                upper = upper,\n",
    "                CMA = CMA_flag)"
   ]
  },
  {
   "cell_type": "code",
   "execution_count": 20,
   "metadata": {},
   "outputs": [],
   "source": [
    "gutter_eval100 = \n",
    "  do_experiment(\n",
    "                methods,\n",
    "                gutter_func,\n",
    "                100,\n",
    "                x0,\n",
    "                lower = lower,\n",
    "                upper = upper,\n",
    "                CMA = CMA_flag)"
   ]
  },
  {
   "cell_type": "code",
   "execution_count": 21,
   "metadata": {},
   "outputs": [],
   "source": [
    "sphere_eval100 = \n",
    "  do_experiment(\n",
    "                methods,\n",
    "                sphere_func,\n",
    "                100,\n",
    "                x0,\n",
    "                lower = lower,\n",
    "                upper = upper,\n",
    "                CMA = CMA_flag)"
   ]
  },
  {
   "cell_type": "code",
   "execution_count": null,
   "metadata": {},
   "outputs": [],
   "source": [
    "linear_eval100 = \n",
    "  do_experiment(\n",
    "                methods,\n",
    "                linear_func,\n",
    "                100,\n",
    "                x0,\n",
    "                lower = lower,\n",
    "                upper = upper,\n",
    "                CMA = CMA_flag)"
   ]
  },
  {
   "cell_type": "markdown",
   "metadata": {},
   "source": [
    "## Krzywe zbieżności + sigma -- 10D\n",
    "### Funkcja gutter $q(x) = x_1 + \\sum^{\\lambda}_{i = 2}x^{2}_{i}$"
   ]
  },
  {
   "cell_type": "code",
   "execution_count": null,
   "metadata": {},
   "outputs": [],
   "source": [
    "gutter_eval10 %>% value_plot()\n",
    "gutter_eval10 %>% mutate(func_val_best = func_val_best + 5000) %>% value_plot(.f=log10) + xlim(0, 100)\n",
    "gutter_eval10 %>% sigma_plot()"
   ]
  },
  {
   "cell_type": "markdown",
   "metadata": {},
   "source": [
    "### Funkcja sferyczna $q(x) = x^{T}x$"
   ]
  },
  {
   "cell_type": "code",
   "execution_count": null,
   "metadata": {},
   "outputs": [],
   "source": [
    "sphere_eval10 %>% value_plot()\n",
    "sphere_eval10 %>% value_plot(.f=log10)\n",
    "sphere_eval10 %>% sigma_plot()"
   ]
  },
  {
   "cell_type": "markdown",
   "metadata": {},
   "source": [
    "### Funkcja liniowa $q(x) = x_1$"
   ]
  },
  {
   "cell_type": "code",
   "execution_count": null,
   "metadata": {},
   "outputs": [],
   "source": [
    "linear_eval10 %>% value_plot()\n",
    "linear_eval10 %>% mutate(func_val_best = func_val_best + 10000) %>% value_plot(.f=log10) \n",
    "linear_eval10 %>% sigma_plot()"
   ]
  },
  {
   "cell_type": "markdown",
   "metadata": {},
   "source": [
    "## Krzywe zbieżności -- 50D\n",
    "### Funkcja gutter $q(x) = x_1 + \\sum^{\\lambda}_{i = 2}x^{2}_{i}$"
   ]
  },
  {
   "cell_type": "code",
   "execution_count": null,
   "metadata": {},
   "outputs": [],
   "source": [
    "gutter_eval50 %>% value_plot()\n",
    "gutter_eval50 %>% mutate(func_val_best = func_val_best + 5000) %>% value_plot(.f=log10) + xlim(0, 250)\n",
    "gutter_eval50 %>% sigma_plot()"
   ]
  },
  {
   "cell_type": "markdown",
   "metadata": {},
   "source": [
    "### Funkcja sferyczna $q(x) = x^{T}x$"
   ]
  },
  {
   "cell_type": "code",
   "execution_count": null,
   "metadata": {},
   "outputs": [],
   "source": [
    "sphere_eval50 %>% value_plot()\n",
    "sphere_eval50 %>% value_plot(.f=log10)\n",
    "sphere_eval50 %>% sigma_plot()"
   ]
  },
  {
   "cell_type": "markdown",
   "metadata": {},
   "source": [
    "### Funkcja liniowa $q(x) = x_1$"
   ]
  },
  {
   "cell_type": "code",
   "execution_count": null,
   "metadata": {},
   "outputs": [],
   "source": [
    "linear_eval50 %>% value_plot()\n",
    "linear_eval50 %>% mutate(func_val_best = func_val_best + 10000) %>% value_plot(.f=log10) \n",
    "linear_eval50 %>% sigma_plot()"
   ]
  },
  {
   "cell_type": "markdown",
   "metadata": {},
   "source": [
    "## Krzywe zbieżności -- 100D\n",
    "### Funkcja gutter $q(x) = x_1 + \\sum^{\\lambda}_{i = 2}x^{2}_{i}$"
   ]
  },
  {
   "cell_type": "code",
   "execution_count": null,
   "metadata": {},
   "outputs": [],
   "source": [
    "gutter_eval100 %>% value_plot()\n",
    "gutter_eval100 %>% mutate(func_val_best = func_val_best + 5000) %>% value_plot(.f=log10) + xlim(0, 300)\n",
    "gutter_eval100 %>% sigma_plot()\n"
   ]
  },
  {
   "cell_type": "markdown",
   "metadata": {},
   "source": [
    "### Funkcja sferyczna $q(x) = x^{T}x$"
   ]
  },
  {
   "cell_type": "code",
   "execution_count": null,
   "metadata": {},
   "outputs": [],
   "source": [
    "sphere_eval100 %>% value_plot()\n",
    "sphere_eval100 %>% value_plot(.f=log10)\n",
    "sphere_eval100 %>% sigma_plot()"
   ]
  },
  {
   "cell_type": "markdown",
   "metadata": {},
   "source": [
    "### Funkcja liniowa $q(x) = x_1$"
   ]
  },
  {
   "cell_type": "code",
   "execution_count": null,
   "metadata": {},
   "outputs": [],
   "source": [
    "linear_eval100 %>% value_plot()\n",
    "linear_eval100 %>% mutate(func_val_best = func_val_best + 10000) %>% value_plot(.f=log10) \n",
    "linear_eval100 %>% sigma_plot()"
   ]
  },
  {
   "cell_type": "code",
   "execution_count": null,
   "metadata": {},
   "outputs": [],
   "source": []
  },
  {
   "cell_type": "code",
   "execution_count": null,
   "metadata": {},
   "outputs": [],
   "source": []
  }
 ],
 "metadata": {
  "kernelspec": {
   "display_name": "R",
   "language": "R",
   "name": "ir"
  },
  "language_info": {
   "codemirror_mode": "r",
   "file_extension": ".r",
   "mimetype": "text/x-r-source",
   "name": "R",
   "pygments_lexer": "r",
   "version": "3.6.2"
  }
 },
 "nbformat": 4,
 "nbformat_minor": 4
}
